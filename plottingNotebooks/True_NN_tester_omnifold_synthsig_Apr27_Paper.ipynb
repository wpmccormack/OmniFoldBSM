{
 "cells": [
  {
   "cell_type": "code",
   "execution_count": 1,
   "metadata": {},
   "outputs": [],
   "source": [
    "import numpy as np\n",
    "import matplotlib.pyplot as plt"
   ]
  },
  {
   "cell_type": "code",
   "execution_count": 2,
   "metadata": {},
   "outputs": [
    {
     "name": "stdout",
     "output_type": "stream",
     "text": [
      "preds_data\n",
      "preds_gen\n"
     ]
    }
   ],
   "source": [
    "fi = np.load(\"../16000MeV_10Perc_SB_150_Apr_27_preds_synthsig_DATA.npz\")\n",
    "\n",
    "for i in fi.keys():\n",
    "    print(i)"
   ]
  },
  {
   "cell_type": "code",
   "execution_count": 3,
   "metadata": {},
   "outputs": [],
   "source": [
    "preds_gen = fi['preds_gen']"
   ]
  },
  {
   "cell_type": "code",
   "execution_count": 4,
   "metadata": {},
   "outputs": [],
   "source": [
    "ws = np.load(\"/data0/users/wmccorma/Jan_2021_perc_mass_scan/Official_synthsig_10Perc_perc_5_mass.npy\")"
   ]
  },
  {
   "cell_type": "code",
   "execution_count": 5,
   "metadata": {},
   "outputs": [],
   "source": [
    "itnum = 10\n",
    "denom = np.sum(ws[itnum])/200000."
   ]
  },
  {
   "cell_type": "code",
   "execution_count": 6,
   "metadata": {},
   "outputs": [],
   "source": [
    "preds_data = fi['preds_data']"
   ]
  },
  {
   "cell_type": "code",
   "execution_count": 7,
   "metadata": {},
   "outputs": [
    {
     "name": "stdout",
     "output_type": "stream",
     "text": [
      "0.73499465\n"
     ]
    }
   ],
   "source": [
    "print(np.average(preds_data[:20000,1]))"
   ]
  },
  {
   "cell_type": "code",
   "execution_count": 8,
   "metadata": {},
   "outputs": [
    {
     "name": "stdout",
     "output_type": "stream",
     "text": [
      "[0. 0. 0. 0. 0. 0. 0. 0. 0. 0.]\n"
     ]
    }
   ],
   "source": [
    "print(np.zeros(10))"
   ]
  },
  {
   "cell_type": "code",
   "execution_count": 9,
   "metadata": {},
   "outputs": [],
   "source": [
    "cuts = []\n",
    "for i in range(10):\n",
    "    cuts.append(.5+0.05*float(i))"
   ]
  },
  {
   "cell_type": "code",
   "execution_count": 10,
   "metadata": {},
   "outputs": [
    {
     "name": "stdout",
     "output_type": "stream",
     "text": [
      "[0.5, 0.55, 0.6, 0.65, 0.7, 0.75, 0.8, 0.8500000000000001, 0.9, 0.95]\n"
     ]
    }
   ],
   "source": [
    "print(cuts)"
   ]
  },
  {
   "cell_type": "code",
   "execution_count": 11,
   "metadata": {},
   "outputs": [
    {
     "name": "stdout",
     "output_type": "stream",
     "text": [
      "[62832. 54687. 45396. 35085. 24882. 16366. 10477.  6339.  3388.  1115.]\n",
      "[18860. 18040. 16752. 14747. 12237.  9434.  6937.  4702.  2764.   966.]\n"
     ]
    }
   ],
   "source": [
    "num_data = np.zeros(10)\n",
    "num_true = np.zeros(10)\n",
    "for c in range(len(cuts)):\n",
    "    for e in range(len(preds_data)):\n",
    "        if(preds_data[e][1] > cuts[c]):\n",
    "            num_data[c]+=1.\n",
    "            if(e < 20000):\n",
    "                num_true[c] += 1.\n",
    "print(num_data)\n",
    "print(num_true)"
   ]
  },
  {
   "cell_type": "code",
   "execution_count": 12,
   "metadata": {},
   "outputs": [
    {
     "name": "stdout",
     "output_type": "stream",
     "text": [
      "260000\n",
      "[0.76923077 0.76923077 0.76923077 ... 0.76923077 0.76923077 0.76923077]\n",
      "0.7692307692307693\n",
      "203508.14737125766\n"
     ]
    }
   ],
   "source": [
    "print(len(preds_gen))\n",
    "print(ws[0])\n",
    "print(20./26.)\n",
    "print(np.sum(ws[itnum]))"
   ]
  },
  {
   "cell_type": "code",
   "execution_count": 13,
   "metadata": {},
   "outputs": [
    {
     "name": "stdout",
     "output_type": "stream",
     "text": [
      "0.73499465\n",
      "0.38254952\n",
      "1.0175407368562883\n",
      "0.4985528357940988\n",
      "0.5352907210502265\n",
      "0.636840352161089\n",
      "0.7824270040238076\n",
      "0.8028286720055947\n",
      "0.8062340206377276\n",
      "0.7977538743134045\n"
     ]
    }
   ],
   "source": [
    "print(np.average(preds_data[:20000,1]))\n",
    "print(np.average(preds_gen[40000:50000,1]))\n",
    "print(np.sum(ws[10])/200000.)\n",
    "print(np.average(ws[10][:10000])/(np.sum(ws[10])/200000.))\n",
    "print(np.average(ws[10][10000:20000])/(np.sum(ws[10])/200000.))\n",
    "print(np.average(ws[10][20000:30000])/(np.sum(ws[10])/200000.))\n",
    "print(np.average(ws[10][30000:40000])/(np.sum(ws[10])/200000.))\n",
    "print(np.average(ws[10][40000:50000])/(np.sum(ws[10])/200000.))\n",
    "print(np.average(ws[10][50000:60000])/(np.sum(ws[10])/200000.))\n",
    "print(np.average(ws[10][100000:110000]/(np.sum(ws[10])/200000.)))"
   ]
  },
  {
   "cell_type": "code",
   "execution_count": 14,
   "metadata": {},
   "outputs": [
    {
     "name": "stdout",
     "output_type": "stream",
     "text": [
      "[51250.00000007 43490.00000004 35149.23076923 26247.69230768\n",
      " 17716.15384615 10776.15384615  6197.69230769  3437.69230769\n",
      "  1628.46153846   500.        ]\n",
      "[53651.66582634 45432.32687071 36556.09466261 27038.2889431\n",
      " 17965.35892669 10787.63472227  6159.52139119  3402.91806008\n",
      "  1608.68727606   492.7620312 ]\n"
     ]
    }
   ],
   "source": [
    "num_gen = np.zeros(10)\n",
    "num_weighted = np.zeros(10)\n",
    "\n",
    "itnum = 10\n",
    "denom = np.sum(ws[itnum])/200000.\n",
    "\n",
    "for c in range(len(cuts)):\n",
    "    for e in range(len(preds_gen)):\n",
    "        if(preds_gen[e][1] > cuts[c]):\n",
    "            num_gen[c]+=20000./26000.\n",
    "            num_weighted[c]+=ws[itnum][e]/denom\n",
    "\n",
    "print(num_gen)\n",
    "print(num_weighted)"
   ]
  },
  {
   "cell_type": "code",
   "execution_count": 15,
   "metadata": {},
   "outputs": [],
   "source": [
    "import matplotlib.pyplot as plt\n",
    "import OmniFold.modplot as modplot"
   ]
  },
  {
   "cell_type": "code",
   "execution_count": 16,
   "metadata": {},
   "outputs": [
    {
     "data": {
      "image/png": "[encoded data removed]",
      "text/plain": [
       "<Figure size 432x432 with 3 Axes>"
      ]
     },
     "metadata": {
      "needs_background": "light"
     },
     "output_type": "display_data"
    }
   ],
   "source": [
    "gridspec_kw = {'height_ratios': (3.5, 1.75, 1.75), 'hspace': 0.0}\n",
    "figsize=(6,6)\n",
    "fig, [ax0, ax1, ax2] = plt.subplots(3,  gridspec_kw=gridspec_kw, figsize=figsize)\n",
    "ax0.minorticks_on()\n",
    "ax0.tick_params(top=True, right=True, bottom=True, left=True, direction='in', which='both')\n",
    "ax1.minorticks_on()\n",
    "ax1.tick_params(top=True, right=True, bottom=True, left=True, direction='in', which='both')\n",
    "ax2.minorticks_on()\n",
    "ax2.tick_params(top=True, right=True, bottom=True, left=True, direction='in', which='both')\n",
    "\n",
    "xlim = [0.45, 1.0]\n",
    "ax0.set_xlim(xlim)\n",
    "ax1.set_xlim(xlim)\n",
    "ax2.set_xlim(xlim)\n",
    "\n",
    "#ax0.set_xlim(xlim)\n",
    "ax1.set_ylim([.0,1.5])\n",
    "ax2.set_ylim([0.0,.99])\n",
    "\n",
    "ax2.set_xlabel('Neural Network Cut')\n",
    "\n",
    "ax0.set_ylabel('Number of Events\\n Passing NN Cut')\n",
    "ax1.set_ylabel('Ratio to\\n Data Yield')\n",
    "ax2.set_ylabel('BSM Fraction\\n of Passing Data')\n",
    "\n",
    "ax0.tick_params(labelbottom=False)\n",
    "ax1.tick_params(labelbottom=False)\n",
    "ax1.tick_params(axis='y', labelsize=8)\n",
    "\n",
    "ax0.plot(cuts, num_data, label='SM+BSM (10%) Truth', color = 'black')\n",
    "ax0.plot(cuts, num_weighted, label='Unfolded', color = 'red')\n",
    "ax0.plot(cuts, num_gen, label='Generation', color = 'blue', ls = 'dashed')\n",
    "\n",
    "ax1.plot(cuts, num_weighted/num_data, color = 'red')\n",
    "ax1.plot(cuts, num_gen/num_data, color = 'blue', ls = 'dashed')\n",
    "\n",
    "ax2.plot(cuts, num_true/num_data, color = 'black')\n",
    "\n",
    "legend_opts = {'handlelength': 2.0, 'loc': 'upper right', 'frameon': False, 'numpoints': 2}\n",
    "handles, labels = ax0.get_legend_handles_labels()\n",
    "ax0.legend(handles, labels, **legend_opts)\n",
    "\n",
    "ax0.text(0.8, 30000, 'OmniFold + BSM Gen.')\n",
    "ax0.text(.8, 25000, '$m_{a} = 16$ GeV')\n",
    "plt.savefig('NN_cut_omni_16GeV_10perc_BSMGen.pdf', bbox_inches = \"tight\")"
   ]
  },
  {
   "cell_type": "code",
   "execution_count": 17,
   "metadata": {},
   "outputs": [],
   "source": [
    "cuts = []\n",
    "for i in range(10):\n",
    "    cuts.append(.8+0.02*float(i))"
   ]
  },
  {
   "cell_type": "code",
   "execution_count": 18,
   "metadata": {},
   "outputs": [
    {
     "name": "stdout",
     "output_type": "stream",
     "text": [
      "[0.8, 0.8200000000000001, 0.8400000000000001, 0.8600000000000001, 0.88, 0.9, 0.92, 0.9400000000000001, 0.9600000000000001, 0.98]\n"
     ]
    }
   ],
   "source": [
    "print(cuts)"
   ]
  },
  {
   "cell_type": "code",
   "execution_count": 19,
   "metadata": {},
   "outputs": [],
   "source": [
    "fi = np.load(\"../16000MeV_0Perc_SB_150_Apr_27_preds_synthsig_DATA.npz\")\n",
    "preds_gen = fi['preds_gen']\n",
    "preds_data = fi['preds_data']\n",
    "ws = np.load(\"/data0/users/wmccorma/Jan_2021_perc_mass_scan/Official_synthsig_0Perc_perc_5_mass.npy\")"
   ]
  },
  {
   "cell_type": "code",
   "execution_count": 20,
   "metadata": {},
   "outputs": [
    {
     "name": "stdout",
     "output_type": "stream",
     "text": [
      "0.28408718\n",
      "0.38254952\n",
      "0.9633074122734285\n",
      "0.46885592274575244\n",
      "0.5081107280144179\n",
      "0.626632750021003\n",
      "0.756854118552257\n",
      "0.7504865653514365\n",
      "0.7504000461953302\n",
      "0.809524740717453\n"
     ]
    }
   ],
   "source": [
    "print(np.average(preds_data[:20000,1]))\n",
    "print(np.average(preds_gen[40000:50000,1]))\n",
    "print(np.sum(ws[10])/200000.)\n",
    "print(np.average(ws[10][:10000])/(np.sum(ws[10])/200000.))\n",
    "print(np.average(ws[10][10000:20000])/(np.sum(ws[10])/200000.))\n",
    "print(np.average(ws[10][20000:30000])/(np.sum(ws[10])/200000.))\n",
    "print(np.average(ws[10][30000:40000])/(np.sum(ws[10])/200000.))\n",
    "print(np.average(ws[10][40000:50000])/(np.sum(ws[10])/200000.))\n",
    "print(np.average(ws[10][50000:60000])/(np.sum(ws[10])/200000.))\n",
    "print(np.average(ws[10][100000:110000]/(np.sum(ws[10])/200000.)))"
   ]
  },
  {
   "cell_type": "code",
   "execution_count": 21,
   "metadata": {},
   "outputs": [
    {
     "name": "stdout",
     "output_type": "stream",
     "text": [
      "[3988. 2991. 2196. 1534. 1041.  708.  439.  255.  103.   33.]\n",
      "[68. 64. 52. 43. 35. 29. 22. 14. 10.  3.]\n"
     ]
    }
   ],
   "source": [
    "num_data = np.zeros(10)\n",
    "num_true = np.zeros(10)\n",
    "for c in range(len(cuts)):\n",
    "    for e in range(len(preds_data)):\n",
    "        if(preds_data[e][1] > cuts[c]):\n",
    "            num_data[c]+=1.\n",
    "            if(e < 200):\n",
    "                num_true[c] += 1.\n",
    "print(num_data)\n",
    "print(num_true)"
   ]
  },
  {
   "cell_type": "code",
   "execution_count": 22,
   "metadata": {},
   "outputs": [
    {
     "name": "stdout",
     "output_type": "stream",
     "text": [
      "[8057. 6386. 5045. 3891. 2970. 2117. 1469.  882.  456.  137.]\n",
      "[5675.23641988 4534.8546753  3613.29086582 2807.10375521 2168.43309239\n",
      " 1562.11075169 1090.78536483  652.85661124  351.62954451  107.25170427]\n"
     ]
    }
   ],
   "source": [
    "num_gen = np.zeros(10)\n",
    "num_weighted = np.zeros(10)\n",
    "\n",
    "itnum = 10\n",
    "denom = np.sum(ws[itnum])/200000.\n",
    "\n",
    "for c in range(len(cuts)):\n",
    "    for e in range(len(preds_gen)):\n",
    "        if(preds_gen[e][1] > cuts[c]):\n",
    "            num_gen[c]+=1.\n",
    "            num_weighted[c]+=ws[itnum][e]/denom\n",
    "\n",
    "print(num_gen)\n",
    "print(num_weighted)"
   ]
  },
  {
   "cell_type": "code",
   "execution_count": 23,
   "metadata": {},
   "outputs": [
    {
     "data": {
      "image/png": "[encoded data removed]",
      "text/plain": [
       "<Figure size 432x432 with 3 Axes>"
      ]
     },
     "metadata": {
      "needs_background": "light"
     },
     "output_type": "display_data"
    }
   ],
   "source": [
    "gridspec_kw = {'height_ratios': (3.5, 1.75, 1.75), 'hspace': 0.0}\n",
    "figsize=(6,6)\n",
    "fig, [ax0, ax1, ax2] = plt.subplots(3,  gridspec_kw=gridspec_kw, figsize=figsize)\n",
    "ax0.minorticks_on()\n",
    "ax0.tick_params(top=True, right=True, bottom=True, left=True, direction='in', which='both')\n",
    "ax1.minorticks_on()\n",
    "ax1.tick_params(top=True, right=True, bottom=True, left=True, direction='in', which='both')\n",
    "ax2.minorticks_on()\n",
    "ax2.tick_params(top=True, right=True, bottom=True, left=True, direction='in', which='both')\n",
    "\n",
    "xlim = [0.78, 1.0]\n",
    "ax0.set_xlim(xlim)\n",
    "ax1.set_xlim(xlim)\n",
    "ax2.set_xlim(xlim)\n",
    "\n",
    "#ax0.set_xlim(xlim)\n",
    "ax1.set_ylim([.83,5.11])\n",
    "ax2.set_ylim([0.0,.14])\n",
    "\n",
    "ax2.set_xlabel('Neural Network Cut')\n",
    "\n",
    "ax0.set_ylabel('Number of Events\\n Passing NN Cut')\n",
    "ax1.set_ylabel('Ratio to\\n Data Yield')\n",
    "ax2.set_ylabel('BSM Fraction\\n of Passing Data')\n",
    "\n",
    "ax0.tick_params(labelbottom=False)\n",
    "ax1.tick_params(labelbottom=False)\n",
    "ax1.tick_params(axis='y', labelsize=8)\n",
    "\n",
    "ax0.plot(cuts, num_data, label='SM+BSM (0.1%) Truth', color = 'black')\n",
    "ax0.plot(cuts, num_weighted, label='Unfolded', color = 'red')\n",
    "ax0.plot(cuts, num_gen, label='Generation', color = 'blue', ls = 'dashed')\n",
    "#ax0.set_yscale('log')\n",
    "\n",
    "ax1.plot(cuts, num_weighted/num_data, color = 'red')\n",
    "ax1.plot(cuts, num_gen/num_data, color = 'blue', ls = 'dashed')\n",
    "\n",
    "ax2.plot(cuts, num_true/num_data, color = 'black')\n",
    "\n",
    "legend_opts = {'handlelength': 2.0, 'loc': 'upper right', 'frameon': False, 'numpoints': 2}\n",
    "handles, labels = ax0.get_legend_handles_labels()\n",
    "ax0.legend(handles, labels, **legend_opts)\n",
    "\n",
    "ax0.text(0.92, 4300, 'OmniFold + BSM Gen.')\n",
    "ax0.text(0.92, 3600, '$m_{a} = 16$ GeV')\n",
    "plt.savefig('NN_cut_omni_16GeV_0perc_BSMGen.pdf', bbox_inches = \"tight\")"
   ]
  },
  {
   "cell_type": "code",
   "execution_count": null,
   "metadata": {},
   "outputs": [],
   "source": []
  },
  {
   "cell_type": "code",
   "execution_count": null,
   "metadata": {},
   "outputs": [],
   "source": []
  }
 ],
 "metadata": {
  "kernelspec": {
   "display_name": "Python 3",
   "language": "python",
   "name": "python3"
  },
  "language_info": {
   "codemirror_mode": {
    "name": "ipython",
    "version": 3
   },
   "file_extension": ".py",
   "mimetype": "text/x-python",
   "name": "python",
   "nbconvert_exporter": "python",
   "pygments_lexer": "ipython3",
   "version": "3.6.5"
  }
 },
 "nbformat": 4,
 "nbformat_minor": 4
}
